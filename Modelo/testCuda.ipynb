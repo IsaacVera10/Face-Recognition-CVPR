{
 "cells": [
  {
   "cell_type": "markdown",
   "id": "c8f0b17b",
   "metadata": {},
   "source": [
    "## Verificación de Pytorch con CUDA\n",
    "Verificamos si tenemos CUDA."
   ]
  },
  {
   "cell_type": "code",
   "execution_count": 2,
   "id": "b27c0e7c",
   "metadata": {},
   "outputs": [
    {
     "name": "stdout",
     "output_type": "stream",
     "text": [
      "True\n"
     ]
    }
   ],
   "source": [
    "import torch\n",
    "print(torch.cuda.is_available())"
   ]
  },
  {
   "cell_type": "code",
   "execution_count": 1,
   "id": "0eb455c6",
   "metadata": {},
   "outputs": [
    {
     "name": "stdout",
     "output_type": "stream",
     "text": [
      "CUDA disponible: True\n",
      "MTCNN cargado correctamente\n"
     ]
    }
   ],
   "source": [
    "import torch\n",
    "from facenet_pytorch import MTCNN\n",
    "\n",
    "print(\"CUDA disponible:\", torch.cuda.is_available())\n",
    "\n",
    "mtcnn = MTCNN(keep_all=True, device='cuda' if torch.cuda.is_available() else 'cpu')\n",
    "print(\"MTCNN cargado correctamente\")\n"
   ]
  }
 ],
 "metadata": {
  "kernelspec": {
   "display_name": "face-recognition-v2",
   "language": "python",
   "name": "python3"
  },
  "language_info": {
   "codemirror_mode": {
    "name": "ipython",
    "version": 3
   },
   "file_extension": ".py",
   "mimetype": "text/x-python",
   "name": "python",
   "nbconvert_exporter": "python",
   "pygments_lexer": "ipython3",
   "version": "3.11.13"
  }
 },
 "nbformat": 4,
 "nbformat_minor": 5
}
